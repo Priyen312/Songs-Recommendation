{
  "nbformat": 4,
  "nbformat_minor": 0,
  "metadata": {
    "colab": {
      "name": "Songs Reccomender.ipynb",
      "provenance": []
    },
    "kernelspec": {
      "display_name": "Python 3",
      "name": "python3"
    }
  },
  "cells": [
    {
      "cell_type": "markdown",
      "metadata": {
        "id": "431xk-oEDI5f"
      },
      "source": [
        "#**Importing Libraries**"
      ]
    },
    {
      "cell_type": "code",
      "metadata": {
        "id": "4MHI7ypg74i_"
      },
      "source": [
        "import numpy as np\n",
        "import matplotlib.pyplot as plt\n",
        "import pandas as pd\n",
        "import seaborn as sns"
      ],
      "execution_count": null,
      "outputs": []
    },
    {
      "cell_type": "code",
      "metadata": {
        "id": "2KVrrhmJDgAo"
      },
      "source": [
        "data=pd.read_csv('data.csv')\n",
        "dd=pd.read_csv('data.csv')"
      ],
      "execution_count": null,
      "outputs": []
    },
    {
      "cell_type": "code",
      "metadata": {
        "colab": {
          "base_uri": "https://localhost:8080/",
          "height": 309
        },
        "id": "JEfmqW2cDjko",
        "outputId": "29bbd076-15a5-46ab-dd53-b58e378dfa83"
      },
      "source": [
        "data.sample(5)"
      ],
      "execution_count": null,
      "outputs": [
        {
          "output_type": "execute_result",
          "data": {
            "text/html": [
              "<div>\n",
              "<style scoped>\n",
              "    .dataframe tbody tr th:only-of-type {\n",
              "        vertical-align: middle;\n",
              "    }\n",
              "\n",
              "    .dataframe tbody tr th {\n",
              "        vertical-align: top;\n",
              "    }\n",
              "\n",
              "    .dataframe thead th {\n",
              "        text-align: right;\n",
              "    }\n",
              "</style>\n",
              "<table border=\"1\" class=\"dataframe\">\n",
              "  <thead>\n",
              "    <tr style=\"text-align: right;\">\n",
              "      <th></th>\n",
              "      <th>Unnamed: 0</th>\n",
              "      <th>acousticness</th>\n",
              "      <th>danceability</th>\n",
              "      <th>duration_ms</th>\n",
              "      <th>energy</th>\n",
              "      <th>instrumentalness</th>\n",
              "      <th>key</th>\n",
              "      <th>liveness</th>\n",
              "      <th>loudness</th>\n",
              "      <th>mode</th>\n",
              "      <th>speechiness</th>\n",
              "      <th>tempo</th>\n",
              "      <th>time_signature</th>\n",
              "      <th>valence</th>\n",
              "      <th>target</th>\n",
              "      <th>song_title</th>\n",
              "      <th>artist</th>\n",
              "    </tr>\n",
              "  </thead>\n",
              "  <tbody>\n",
              "    <tr>\n",
              "      <th>314</th>\n",
              "      <td>314</td>\n",
              "      <td>0.0174</td>\n",
              "      <td>0.446</td>\n",
              "      <td>241800</td>\n",
              "      <td>0.7520</td>\n",
              "      <td>0.000000</td>\n",
              "      <td>6</td>\n",
              "      <td>0.128</td>\n",
              "      <td>-6.088</td>\n",
              "      <td>1</td>\n",
              "      <td>0.3680</td>\n",
              "      <td>96.318</td>\n",
              "      <td>4.0</td>\n",
              "      <td>0.585</td>\n",
              "      <td>1</td>\n",
              "      <td>Sometimes</td>\n",
              "      <td>Heems</td>\n",
              "    </tr>\n",
              "    <tr>\n",
              "      <th>1567</th>\n",
              "      <td>1567</td>\n",
              "      <td>0.9180</td>\n",
              "      <td>0.331</td>\n",
              "      <td>507533</td>\n",
              "      <td>0.0861</td>\n",
              "      <td>0.902000</td>\n",
              "      <td>5</td>\n",
              "      <td>0.106</td>\n",
              "      <td>-21.226</td>\n",
              "      <td>1</td>\n",
              "      <td>0.0354</td>\n",
              "      <td>107.436</td>\n",
              "      <td>4.0</td>\n",
              "      <td>0.152</td>\n",
              "      <td>0</td>\n",
              "      <td>I Have Dreamed</td>\n",
              "      <td>Christian McBride</td>\n",
              "    </tr>\n",
              "    <tr>\n",
              "      <th>1476</th>\n",
              "      <td>1476</td>\n",
              "      <td>0.1310</td>\n",
              "      <td>0.522</td>\n",
              "      <td>210816</td>\n",
              "      <td>0.8600</td>\n",
              "      <td>0.020900</td>\n",
              "      <td>10</td>\n",
              "      <td>0.122</td>\n",
              "      <td>-3.773</td>\n",
              "      <td>0</td>\n",
              "      <td>0.1450</td>\n",
              "      <td>128.019</td>\n",
              "      <td>4.0</td>\n",
              "      <td>0.263</td>\n",
              "      <td>0</td>\n",
              "      <td>Open</td>\n",
              "      <td>Yellow Claw</td>\n",
              "    </tr>\n",
              "    <tr>\n",
              "      <th>26</th>\n",
              "      <td>26</td>\n",
              "      <td>0.3410</td>\n",
              "      <td>0.411</td>\n",
              "      <td>199500</td>\n",
              "      <td>0.6840</td>\n",
              "      <td>0.000001</td>\n",
              "      <td>11</td>\n",
              "      <td>0.198</td>\n",
              "      <td>-6.889</td>\n",
              "      <td>0</td>\n",
              "      <td>0.3830</td>\n",
              "      <td>110.016</td>\n",
              "      <td>4.0</td>\n",
              "      <td>0.598</td>\n",
              "      <td>1</td>\n",
              "      <td>Lose My Mind</td>\n",
              "      <td>A-Trak</td>\n",
              "    </tr>\n",
              "    <tr>\n",
              "      <th>537</th>\n",
              "      <td>537</td>\n",
              "      <td>0.0036</td>\n",
              "      <td>0.396</td>\n",
              "      <td>186627</td>\n",
              "      <td>0.6010</td>\n",
              "      <td>0.531000</td>\n",
              "      <td>0</td>\n",
              "      <td>0.116</td>\n",
              "      <td>-9.347</td>\n",
              "      <td>1</td>\n",
              "      <td>0.0515</td>\n",
              "      <td>129.996</td>\n",
              "      <td>4.0</td>\n",
              "      <td>0.351</td>\n",
              "      <td>1</td>\n",
              "      <td>Wrath Of God</td>\n",
              "      <td>Crystal Castles</td>\n",
              "    </tr>\n",
              "  </tbody>\n",
              "</table>\n",
              "</div>"
            ],
            "text/plain": [
              "      Unnamed: 0  acousticness  ...      song_title             artist\n",
              "314          314        0.0174  ...       Sometimes              Heems\n",
              "1567        1567        0.9180  ...  I Have Dreamed  Christian McBride\n",
              "1476        1476        0.1310  ...            Open        Yellow Claw\n",
              "26            26        0.3410  ...    Lose My Mind             A-Trak\n",
              "537          537        0.0036  ...    Wrath Of God    Crystal Castles\n",
              "\n",
              "[5 rows x 17 columns]"
            ]
          },
          "metadata": {},
          "execution_count": 3
        }
      ]
    },
    {
      "cell_type": "markdown",
      "metadata": {
        "id": "47GnAnZDEUJj"
      },
      "source": [
        "### Checking For Missing Values"
      ]
    },
    {
      "cell_type": "code",
      "metadata": {
        "colab": {
          "base_uri": "https://localhost:8080/",
          "height": 359
        },
        "id": "6WtY4YXNFqCF",
        "outputId": "06531f2e-9abe-4c78-96b9-7e916a45e909"
      },
      "source": [
        "sns.heatmap(data.isnull(),yticklabels=False,cbar=False)"
      ],
      "execution_count": null,
      "outputs": [
        {
          "output_type": "execute_result",
          "data": {
            "text/plain": [
              "<matplotlib.axes._subplots.AxesSubplot at 0x7fade7b23ac8>"
            ]
          },
          "metadata": {
            "tags": []
          },
          "execution_count": 4
        },
        {
          "output_type": "display_data",
          "data": {
            "image/png": "[encoded data removed]",
            "text/plain": [
              "<Figure size 432x288 with 1 Axes>"
            ]
          },
          "metadata": {
            "tags": [],
            "needs_background": "light"
          }
        }
      ]
    },
    {
      "cell_type": "code",
      "metadata": {
        "colab": {
          "base_uri": "https://localhost:8080/",
          "height": 359
        },
        "id": "gFRcL-V19gZs",
        "outputId": "01a4b94e-6418-48d8-9a3c-d7719d04caa9"
      },
      "source": [
        "sns.heatmap(data.isnull(),yticklabels=False,cbar=False)"
      ],
      "execution_count": null,
      "outputs": [
        {
          "output_type": "execute_result",
          "data": {
            "text/plain": [
              "<matplotlib.axes._subplots.AxesSubplot at 0x7f02e3a2a990>"
            ]
          },
          "metadata": {},
          "execution_count": 5
        },
        {
          "output_type": "display_data",
          "data": {
            "image/png": "[encoded data removed]",
            "text/plain": [
              "<Figure size 432x288 with 1 Axes>"
            ]
          },
          "metadata": {
            "needs_background": "light"
          }
        }
      ]
    },
    {
      "cell_type": "code",
      "metadata": {
        "id": "Y1S-7EwEHJOg"
      },
      "source": [
        "data.drop(data.columns[[0, 3, 5, 6, 9, 12, 14,15,16]], axis = 1, inplace = True)"
      ],
      "execution_count": null,
      "outputs": []
    },
    {
      "cell_type": "code",
      "metadata": {
        "colab": {
          "base_uri": "https://localhost:8080/",
          "height": 204
        },
        "id": "R4-jffwhHKXc",
        "outputId": "8cc52d45-efe9-49ca-bce2-5dc3dae845d0"
      },
      "source": [
        "data.head()"
      ],
      "execution_count": null,
      "outputs": [
        {
          "output_type": "execute_result",
          "data": {
            "text/html": [
              "<div>\n",
              "<style scoped>\n",
              "    .dataframe tbody tr th:only-of-type {\n",
              "        vertical-align: middle;\n",
              "    }\n",
              "\n",
              "    .dataframe tbody tr th {\n",
              "        vertical-align: top;\n",
              "    }\n",
              "\n",
              "    .dataframe thead th {\n",
              "        text-align: right;\n",
              "    }\n",
              "</style>\n",
              "<table border=\"1\" class=\"dataframe\">\n",
              "  <thead>\n",
              "    <tr style=\"text-align: right;\">\n",
              "      <th></th>\n",
              "      <th>acousticness</th>\n",
              "      <th>danceability</th>\n",
              "      <th>energy</th>\n",
              "      <th>liveness</th>\n",
              "      <th>loudness</th>\n",
              "      <th>speechiness</th>\n",
              "      <th>tempo</th>\n",
              "      <th>valence</th>\n",
              "    </tr>\n",
              "  </thead>\n",
              "  <tbody>\n",
              "    <tr>\n",
              "      <th>0</th>\n",
              "      <td>0.0102</td>\n",
              "      <td>0.833</td>\n",
              "      <td>0.434</td>\n",
              "      <td>0.1650</td>\n",
              "      <td>-8.795</td>\n",
              "      <td>0.4310</td>\n",
              "      <td>150.062</td>\n",
              "      <td>0.286</td>\n",
              "    </tr>\n",
              "    <tr>\n",
              "      <th>1</th>\n",
              "      <td>0.1990</td>\n",
              "      <td>0.743</td>\n",
              "      <td>0.359</td>\n",
              "      <td>0.1370</td>\n",
              "      <td>-10.401</td>\n",
              "      <td>0.0794</td>\n",
              "      <td>160.083</td>\n",
              "      <td>0.588</td>\n",
              "    </tr>\n",
              "    <tr>\n",
              "      <th>2</th>\n",
              "      <td>0.0344</td>\n",
              "      <td>0.838</td>\n",
              "      <td>0.412</td>\n",
              "      <td>0.1590</td>\n",
              "      <td>-7.148</td>\n",
              "      <td>0.2890</td>\n",
              "      <td>75.044</td>\n",
              "      <td>0.173</td>\n",
              "    </tr>\n",
              "    <tr>\n",
              "      <th>3</th>\n",
              "      <td>0.6040</td>\n",
              "      <td>0.494</td>\n",
              "      <td>0.338</td>\n",
              "      <td>0.0922</td>\n",
              "      <td>-15.236</td>\n",
              "      <td>0.0261</td>\n",
              "      <td>86.468</td>\n",
              "      <td>0.230</td>\n",
              "    </tr>\n",
              "    <tr>\n",
              "      <th>4</th>\n",
              "      <td>0.1800</td>\n",
              "      <td>0.678</td>\n",
              "      <td>0.561</td>\n",
              "      <td>0.4390</td>\n",
              "      <td>-11.648</td>\n",
              "      <td>0.0694</td>\n",
              "      <td>174.004</td>\n",
              "      <td>0.904</td>\n",
              "    </tr>\n",
              "  </tbody>\n",
              "</table>\n",
              "</div>"
            ],
            "text/plain": [
              "   acousticness  danceability  energy  ...  speechiness    tempo  valence\n",
              "0        0.0102         0.833   0.434  ...       0.4310  150.062    0.286\n",
              "1        0.1990         0.743   0.359  ...       0.0794  160.083    0.588\n",
              "2        0.0344         0.838   0.412  ...       0.2890   75.044    0.173\n",
              "3        0.6040         0.494   0.338  ...       0.0261   86.468    0.230\n",
              "4        0.1800         0.678   0.561  ...       0.0694  174.004    0.904\n",
              "\n",
              "[5 rows x 8 columns]"
            ]
          },
          "metadata": {},
          "execution_count": 10
        }
      ]
    },
    {
      "cell_type": "markdown",
      "metadata": {
        "id": "34-7sUinaAAb"
      },
      "source": [
        "## Feature Scaling"
      ]
    },
    {
      "cell_type": "code",
      "metadata": {
        "id": "xtkfTx6kPHW7"
      },
      "source": [
        "\n",
        "from sklearn.preprocessing import StandardScaler\n",
        "\n",
        "sc=StandardScaler()\n",
        "X=sc.fit_transform(data)\n",
        "\n"
      ],
      "execution_count": null,
      "outputs": []
    },
    {
      "cell_type": "code",
      "metadata": {
        "colab": {
          "base_uri": "https://localhost:8080/",
          "height": 204
        },
        "id": "iB6A4eEvBYcm",
        "outputId": "83f63906-ec6f-4f02-d17b-45f33b153378"
      },
      "source": [
        "Xdf=pd.DataFrame(X,columns=data.columns)\n",
        "Xdf.head()"
      ],
      "execution_count": null,
      "outputs": [
        {
          "output_type": "execute_result",
          "data": {
            "text/html": [
              "<div>\n",
              "<style scoped>\n",
              "    .dataframe tbody tr th:only-of-type {\n",
              "        vertical-align: middle;\n",
              "    }\n",
              "\n",
              "    .dataframe tbody tr th {\n",
              "        vertical-align: top;\n",
              "    }\n",
              "\n",
              "    .dataframe thead th {\n",
              "        text-align: right;\n",
              "    }\n",
              "</style>\n",
              "<table border=\"1\" class=\"dataframe\">\n",
              "  <thead>\n",
              "    <tr style=\"text-align: right;\">\n",
              "      <th></th>\n",
              "      <th>acousticness</th>\n",
              "      <th>danceability</th>\n",
              "      <th>energy</th>\n",
              "      <th>liveness</th>\n",
              "      <th>loudness</th>\n",
              "      <th>speechiness</th>\n",
              "      <th>tempo</th>\n",
              "      <th>valence</th>\n",
              "    </tr>\n",
              "  </thead>\n",
              "  <tbody>\n",
              "    <tr>\n",
              "      <th>0</th>\n",
              "      <td>-0.682467</td>\n",
              "      <td>1.332874</td>\n",
              "      <td>-1.177700</td>\n",
              "      <td>-0.166291</td>\n",
              "      <td>-0.454530</td>\n",
              "      <td>3.763084</td>\n",
              "      <td>1.066709</td>\n",
              "      <td>-0.853039</td>\n",
              "    </tr>\n",
              "    <tr>\n",
              "      <th>1</th>\n",
              "      <td>0.043897</td>\n",
              "      <td>0.773830</td>\n",
              "      <td>-1.534468</td>\n",
              "      <td>-0.346454</td>\n",
              "      <td>-0.881573</td>\n",
              "      <td>-0.147529</td>\n",
              "      <td>1.442323</td>\n",
              "      <td>0.368970</td>\n",
              "    </tr>\n",
              "    <tr>\n",
              "      <th>2</th>\n",
              "      <td>-0.589363</td>\n",
              "      <td>1.363932</td>\n",
              "      <td>-1.282352</td>\n",
              "      <td>-0.204897</td>\n",
              "      <td>-0.016586</td>\n",
              "      <td>2.183712</td>\n",
              "      <td>-1.745166</td>\n",
              "      <td>-1.310280</td>\n",
              "    </tr>\n",
              "    <tr>\n",
              "      <th>3</th>\n",
              "      <td>1.602040</td>\n",
              "      <td>-0.772860</td>\n",
              "      <td>-1.634363</td>\n",
              "      <td>-0.634715</td>\n",
              "      <td>-2.167220</td>\n",
              "      <td>-0.740350</td>\n",
              "      <td>-1.316964</td>\n",
              "      <td>-1.079636</td>\n",
              "    </tr>\n",
              "    <tr>\n",
              "      <th>4</th>\n",
              "      <td>-0.029201</td>\n",
              "      <td>0.370075</td>\n",
              "      <td>-0.573574</td>\n",
              "      <td>1.596735</td>\n",
              "      <td>-1.213155</td>\n",
              "      <td>-0.258753</td>\n",
              "      <td>1.964120</td>\n",
              "      <td>1.647627</td>\n",
              "    </tr>\n",
              "  </tbody>\n",
              "</table>\n",
              "</div>"
            ],
            "text/plain": [
              "   acousticness  danceability    energy  ...  speechiness     tempo   valence\n",
              "0     -0.682467      1.332874 -1.177700  ...     3.763084  1.066709 -0.853039\n",
              "1      0.043897      0.773830 -1.534468  ...    -0.147529  1.442323  0.368970\n",
              "2     -0.589363      1.363932 -1.282352  ...     2.183712 -1.745166 -1.310280\n",
              "3      1.602040     -0.772860 -1.634363  ...    -0.740350 -1.316964 -1.079636\n",
              "4     -0.029201      0.370075 -0.573574  ...    -0.258753  1.964120  1.647627\n",
              "\n",
              "[5 rows x 8 columns]"
            ]
          },
          "metadata": {},
          "execution_count": 25
        }
      ]
    },
    {
      "cell_type": "markdown",
      "metadata": {
        "id": "2k1NlsUl-e6B"
      },
      "source": [
        "# **Elbow**"
      ]
    },
    {
      "cell_type": "code",
      "metadata": {
        "colab": {
          "base_uri": "https://localhost:8080/",
          "height": 295
        },
        "id": "Mmef2Jpx-QIX",
        "outputId": "2dde2137-9307-49a8-f682-2b4a6815aa35"
      },
      "source": [
        "from sklearn.cluster import KMeans\n",
        "\n",
        "wcss=[]\n",
        "\n",
        "for i in range(1,16):\n",
        "    kmeans=KMeans(n_clusters=i,init='k-means++',random_state=42)\n",
        "    kmeans.fit(X)\n",
        "    wcss.append(kmeans.inertia_)\n",
        "    \n",
        "plt.plot(range(1,16),wcss)\n",
        "plt.title('Elbow')\n",
        "plt.xlabel('Clusters') \n",
        "plt.ylabel('WCSS')\n",
        "plt.show()\n",
        "\n"
      ],
      "execution_count": null,
      "outputs": [
        {
          "output_type": "display_data",
          "data": {
            "image/png": "[encoded data removed]",
            "text/plain": [
              "<Figure size 432x288 with 1 Axes>"
            ]
          },
          "metadata": {
            "needs_background": "light"
          }
        }
      ]
    },
    {
      "cell_type": "code",
      "metadata": {
        "colab": {
          "base_uri": "https://localhost:8080/"
        },
        "id": "h3gGEIDHGoxS",
        "outputId": "67f68338-4ea6-454b-e5df-dba501081b8f"
      },
      "source": [
        "wcss"
      ],
      "execution_count": null,
      "outputs": [
        {
          "output_type": "execute_result",
          "data": {
            "text/plain": [
              "[16136.0,\n",
              " 12781.944593797234,\n",
              " 10981.489911286157,\n",
              " 9696.649299936664,\n",
              " 8757.526861293392,\n",
              " 8065.914800261735,\n",
              " 7533.756326186154,\n",
              " 7161.254384930098,\n",
              " 6899.971249344391,\n",
              " 6679.784936892247,\n",
              " 6457.477828481829,\n",
              " 6254.174538789747,\n",
              " 6057.543237900893,\n",
              " 5881.5400401582965,\n",
              " 5764.529057853015]"
            ]
          },
          "metadata": {},
          "execution_count": 14
        }
      ]
    },
    {
      "cell_type": "markdown",
      "metadata": {
        "id": "QmKsLwtjHIYD"
      },
      "source": [
        "# **Training The k means algorithm** (6,7,8 clusters)"
      ]
    },
    {
      "cell_type": "code",
      "metadata": {
        "id": "jkJYuWIZUjPx"
      },
      "source": [
        "kmeans = KMeans(n_clusters = 6, init = 'k-means++', random_state = 42)\n",
        "y_kmeans = kmeans.fit_predict(X)\n",
        "labels=kmeans.labels_\n",
        "c6=dd.assign(Cluster=labels)"
      ],
      "execution_count": null,
      "outputs": []
    },
    {
      "cell_type": "code",
      "metadata": {
        "id": "fBT1lAJcPW-S"
      },
      "source": [
        "kmeans = KMeans(n_clusters = 7, init = 'k-means++', random_state = 42)\n",
        "y_kmeans = kmeans.fit_predict(X)\n",
        "labels=kmeans.labels_\n",
        "c7=dd.assign(Cluster=labels)"
      ],
      "execution_count": null,
      "outputs": []
    },
    {
      "cell_type": "code",
      "metadata": {
        "id": "ohp5kVmkPYKf"
      },
      "source": [
        "kmeans = KMeans(n_clusters = 8, init = 'k-means++', random_state = 42)\n",
        "y_kmeans = kmeans.fit_predict(X)\n",
        "labels=kmeans.labels_\n",
        "c8=dd.assign(Cluster=labels)"
      ],
      "execution_count": null,
      "outputs": []
    },
    {
      "cell_type": "code",
      "metadata": {
        "id": "a4FAz9x-MaSR"
      },
      "source": [
        "c6_summary = c6.groupby(['Cluster']).agg({'danceability':'mean',\n",
        "    'loudness':'mean',\n",
        "     'valence':'mean',\n",
        "    'acousticness':['mean','count'],}).round(1)\n",
        "\n",
        "c7_summary = c7.groupby(['Cluster']).agg({'danceability':'mean',\n",
        "    'loudness':'mean',\n",
        "     'valence':'mean',\n",
        "    'acousticness':['mean','count'],}).round(1)\n",
        "\n",
        "c8_summary = c8.groupby(['Cluster']).agg({'danceability':'mean',\n",
        "    'loudness':'mean',\n",
        "     'valence':'mean',\n",
        "    'acousticness':['mean','count'],}).round(1)"
      ],
      "execution_count": null,
      "outputs": []
    },
    {
      "cell_type": "code",
      "metadata": {
        "colab": {
          "base_uri": "https://localhost:8080/",
          "height": 297
        },
        "id": "cv3_k7ih1Zg4",
        "outputId": "d4c769ee-a5fb-41fd-c047-1708f79bb080"
      },
      "source": [
        "c6_summary"
      ],
      "execution_count": null,
      "outputs": [
        {
          "output_type": "execute_result",
          "data": {
            "text/html": [
              "<div>\n",
              "<style scoped>\n",
              "    .dataframe tbody tr th:only-of-type {\n",
              "        vertical-align: middle;\n",
              "    }\n",
              "\n",
              "    .dataframe tbody tr th {\n",
              "        vertical-align: top;\n",
              "    }\n",
              "\n",
              "    .dataframe thead tr th {\n",
              "        text-align: left;\n",
              "    }\n",
              "\n",
              "    .dataframe thead tr:last-of-type th {\n",
              "        text-align: right;\n",
              "    }\n",
              "</style>\n",
              "<table border=\"1\" class=\"dataframe\">\n",
              "  <thead>\n",
              "    <tr>\n",
              "      <th></th>\n",
              "      <th>danceability</th>\n",
              "      <th>loudness</th>\n",
              "      <th>valence</th>\n",
              "      <th colspan=\"2\" halign=\"left\">acousticness</th>\n",
              "    </tr>\n",
              "    <tr>\n",
              "      <th></th>\n",
              "      <th>mean</th>\n",
              "      <th>mean</th>\n",
              "      <th>mean</th>\n",
              "      <th>mean</th>\n",
              "      <th>count</th>\n",
              "    </tr>\n",
              "    <tr>\n",
              "      <th>Cluster</th>\n",
              "      <th></th>\n",
              "      <th></th>\n",
              "      <th></th>\n",
              "      <th></th>\n",
              "      <th></th>\n",
              "    </tr>\n",
              "  </thead>\n",
              "  <tbody>\n",
              "    <tr>\n",
              "      <th>0</th>\n",
              "      <td>0.6</td>\n",
              "      <td>-7.4</td>\n",
              "      <td>0.3</td>\n",
              "      <td>0.2</td>\n",
              "      <td>487</td>\n",
              "    </tr>\n",
              "    <tr>\n",
              "      <th>1</th>\n",
              "      <td>0.5</td>\n",
              "      <td>-15.2</td>\n",
              "      <td>0.2</td>\n",
              "      <td>0.8</td>\n",
              "      <td>168</td>\n",
              "    </tr>\n",
              "    <tr>\n",
              "      <th>2</th>\n",
              "      <td>0.6</td>\n",
              "      <td>-5.0</td>\n",
              "      <td>0.4</td>\n",
              "      <td>0.1</td>\n",
              "      <td>217</td>\n",
              "    </tr>\n",
              "    <tr>\n",
              "      <th>3</th>\n",
              "      <td>0.7</td>\n",
              "      <td>-6.4</td>\n",
              "      <td>0.7</td>\n",
              "      <td>0.1</td>\n",
              "      <td>612</td>\n",
              "    </tr>\n",
              "    <tr>\n",
              "      <th>4</th>\n",
              "      <td>0.7</td>\n",
              "      <td>-7.2</td>\n",
              "      <td>0.5</td>\n",
              "      <td>0.2</td>\n",
              "      <td>192</td>\n",
              "    </tr>\n",
              "    <tr>\n",
              "      <th>5</th>\n",
              "      <td>0.5</td>\n",
              "      <td>-5.1</td>\n",
              "      <td>0.4</td>\n",
              "      <td>0.1</td>\n",
              "      <td>341</td>\n",
              "    </tr>\n",
              "  </tbody>\n",
              "</table>\n",
              "</div>"
            ],
            "text/plain": [
              "        danceability loudness valence acousticness      \n",
              "                mean     mean    mean         mean count\n",
              "Cluster                                                 \n",
              "0                0.6     -7.4     0.3          0.2   487\n",
              "1                0.5    -15.2     0.2          0.8   168\n",
              "2                0.6     -5.0     0.4          0.1   217\n",
              "3                0.7     -6.4     0.7          0.1   612\n",
              "4                0.7     -7.2     0.5          0.2   192\n",
              "5                0.5     -5.1     0.4          0.1   341"
            ]
          },
          "metadata": {},
          "execution_count": 30
        }
      ]
    },
    {
      "cell_type": "code",
      "metadata": {
        "colab": {
          "base_uri": "https://localhost:8080/",
          "height": 328
        },
        "id": "kucU1T_v1iHj",
        "outputId": "0b273dd0-4d75-4f3c-9eff-ed8d712dd81e"
      },
      "source": [
        "c7_summary"
      ],
      "execution_count": null,
      "outputs": [
        {
          "output_type": "execute_result",
          "data": {
            "text/html": [
              "<div>\n",
              "<style scoped>\n",
              "    .dataframe tbody tr th:only-of-type {\n",
              "        vertical-align: middle;\n",
              "    }\n",
              "\n",
              "    .dataframe tbody tr th {\n",
              "        vertical-align: top;\n",
              "    }\n",
              "\n",
              "    .dataframe thead tr th {\n",
              "        text-align: left;\n",
              "    }\n",
              "\n",
              "    .dataframe thead tr:last-of-type th {\n",
              "        text-align: right;\n",
              "    }\n",
              "</style>\n",
              "<table border=\"1\" class=\"dataframe\">\n",
              "  <thead>\n",
              "    <tr>\n",
              "      <th></th>\n",
              "      <th>danceability</th>\n",
              "      <th>loudness</th>\n",
              "      <th>valence</th>\n",
              "      <th colspan=\"2\" halign=\"left\">acousticness</th>\n",
              "    </tr>\n",
              "    <tr>\n",
              "      <th></th>\n",
              "      <th>mean</th>\n",
              "      <th>mean</th>\n",
              "      <th>mean</th>\n",
              "      <th>mean</th>\n",
              "      <th>count</th>\n",
              "    </tr>\n",
              "    <tr>\n",
              "      <th>Cluster</th>\n",
              "      <th></th>\n",
              "      <th></th>\n",
              "      <th></th>\n",
              "      <th></th>\n",
              "      <th></th>\n",
              "    </tr>\n",
              "  </thead>\n",
              "  <tbody>\n",
              "    <tr>\n",
              "      <th>0</th>\n",
              "      <td>0.5</td>\n",
              "      <td>-5.3</td>\n",
              "      <td>0.5</td>\n",
              "      <td>0.1</td>\n",
              "      <td>260</td>\n",
              "    </tr>\n",
              "    <tr>\n",
              "      <th>1</th>\n",
              "      <td>0.6</td>\n",
              "      <td>-9.3</td>\n",
              "      <td>0.4</td>\n",
              "      <td>0.6</td>\n",
              "      <td>219</td>\n",
              "    </tr>\n",
              "    <tr>\n",
              "      <th>2</th>\n",
              "      <td>0.7</td>\n",
              "      <td>-6.4</td>\n",
              "      <td>0.7</td>\n",
              "      <td>0.1</td>\n",
              "      <td>581</td>\n",
              "    </tr>\n",
              "    <tr>\n",
              "      <th>3</th>\n",
              "      <td>0.7</td>\n",
              "      <td>-7.2</td>\n",
              "      <td>0.5</td>\n",
              "      <td>0.2</td>\n",
              "      <td>191</td>\n",
              "    </tr>\n",
              "    <tr>\n",
              "      <th>4</th>\n",
              "      <td>0.6</td>\n",
              "      <td>-5.1</td>\n",
              "      <td>0.5</td>\n",
              "      <td>0.1</td>\n",
              "      <td>199</td>\n",
              "    </tr>\n",
              "    <tr>\n",
              "      <th>5</th>\n",
              "      <td>0.4</td>\n",
              "      <td>-18.2</td>\n",
              "      <td>0.2</td>\n",
              "      <td>0.9</td>\n",
              "      <td>99</td>\n",
              "    </tr>\n",
              "    <tr>\n",
              "      <th>6</th>\n",
              "      <td>0.6</td>\n",
              "      <td>-6.4</td>\n",
              "      <td>0.3</td>\n",
              "      <td>0.1</td>\n",
              "      <td>468</td>\n",
              "    </tr>\n",
              "  </tbody>\n",
              "</table>\n",
              "</div>"
            ],
            "text/plain": [
              "        danceability loudness valence acousticness      \n",
              "                mean     mean    mean         mean count\n",
              "Cluster                                                 \n",
              "0                0.5     -5.3     0.5          0.1   260\n",
              "1                0.6     -9.3     0.4          0.6   219\n",
              "2                0.7     -6.4     0.7          0.1   581\n",
              "3                0.7     -7.2     0.5          0.2   191\n",
              "4                0.6     -5.1     0.5          0.1   199\n",
              "5                0.4    -18.2     0.2          0.9    99\n",
              "6                0.6     -6.4     0.3          0.1   468"
            ]
          },
          "metadata": {},
          "execution_count": 31
        }
      ]
    },
    {
      "cell_type": "code",
      "metadata": {
        "colab": {
          "base_uri": "https://localhost:8080/",
          "height": 359
        },
        "id": "TjIj_8gp1lP8",
        "outputId": "b859aa60-1c98-47ee-aa09-4ad163a07e86"
      },
      "source": [
        "c8_summary"
      ],
      "execution_count": null,
      "outputs": [
        {
          "output_type": "execute_result",
          "data": {
            "text/html": [
              "<div>\n",
              "<style scoped>\n",
              "    .dataframe tbody tr th:only-of-type {\n",
              "        vertical-align: middle;\n",
              "    }\n",
              "\n",
              "    .dataframe tbody tr th {\n",
              "        vertical-align: top;\n",
              "    }\n",
              "\n",
              "    .dataframe thead tr th {\n",
              "        text-align: left;\n",
              "    }\n",
              "\n",
              "    .dataframe thead tr:last-of-type th {\n",
              "        text-align: right;\n",
              "    }\n",
              "</style>\n",
              "<table border=\"1\" class=\"dataframe\">\n",
              "  <thead>\n",
              "    <tr>\n",
              "      <th></th>\n",
              "      <th>danceability</th>\n",
              "      <th>loudness</th>\n",
              "      <th>valence</th>\n",
              "      <th colspan=\"2\" halign=\"left\">acousticness</th>\n",
              "    </tr>\n",
              "    <tr>\n",
              "      <th></th>\n",
              "      <th>mean</th>\n",
              "      <th>mean</th>\n",
              "      <th>mean</th>\n",
              "      <th>mean</th>\n",
              "      <th>count</th>\n",
              "    </tr>\n",
              "    <tr>\n",
              "      <th>Cluster</th>\n",
              "      <th></th>\n",
              "      <th></th>\n",
              "      <th></th>\n",
              "      <th></th>\n",
              "      <th></th>\n",
              "    </tr>\n",
              "  </thead>\n",
              "  <tbody>\n",
              "    <tr>\n",
              "      <th>0</th>\n",
              "      <td>0.5</td>\n",
              "      <td>-5.3</td>\n",
              "      <td>0.5</td>\n",
              "      <td>0.1</td>\n",
              "      <td>246</td>\n",
              "    </tr>\n",
              "    <tr>\n",
              "      <th>1</th>\n",
              "      <td>0.4</td>\n",
              "      <td>-18.5</td>\n",
              "      <td>0.2</td>\n",
              "      <td>0.9</td>\n",
              "      <td>95</td>\n",
              "    </tr>\n",
              "    <tr>\n",
              "      <th>2</th>\n",
              "      <td>0.6</td>\n",
              "      <td>-5.0</td>\n",
              "      <td>0.5</td>\n",
              "      <td>0.1</td>\n",
              "      <td>156</td>\n",
              "    </tr>\n",
              "    <tr>\n",
              "      <th>3</th>\n",
              "      <td>0.7</td>\n",
              "      <td>-7.1</td>\n",
              "      <td>0.5</td>\n",
              "      <td>0.2</td>\n",
              "      <td>182</td>\n",
              "    </tr>\n",
              "    <tr>\n",
              "      <th>4</th>\n",
              "      <td>0.7</td>\n",
              "      <td>-5.6</td>\n",
              "      <td>0.8</td>\n",
              "      <td>0.1</td>\n",
              "      <td>448</td>\n",
              "    </tr>\n",
              "    <tr>\n",
              "      <th>5</th>\n",
              "      <td>0.5</td>\n",
              "      <td>-5.9</td>\n",
              "      <td>0.3</td>\n",
              "      <td>0.1</td>\n",
              "      <td>400</td>\n",
              "    </tr>\n",
              "    <tr>\n",
              "      <th>6</th>\n",
              "      <td>0.6</td>\n",
              "      <td>-9.0</td>\n",
              "      <td>0.4</td>\n",
              "      <td>0.6</td>\n",
              "      <td>196</td>\n",
              "    </tr>\n",
              "    <tr>\n",
              "      <th>7</th>\n",
              "      <td>0.8</td>\n",
              "      <td>-8.6</td>\n",
              "      <td>0.5</td>\n",
              "      <td>0.1</td>\n",
              "      <td>294</td>\n",
              "    </tr>\n",
              "  </tbody>\n",
              "</table>\n",
              "</div>"
            ],
            "text/plain": [
              "        danceability loudness valence acousticness      \n",
              "                mean     mean    mean         mean count\n",
              "Cluster                                                 \n",
              "0                0.5     -5.3     0.5          0.1   246\n",
              "1                0.4    -18.5     0.2          0.9    95\n",
              "2                0.6     -5.0     0.5          0.1   156\n",
              "3                0.7     -7.1     0.5          0.2   182\n",
              "4                0.7     -5.6     0.8          0.1   448\n",
              "5                0.5     -5.9     0.3          0.1   400\n",
              "6                0.6     -9.0     0.4          0.6   196\n",
              "7                0.8     -8.6     0.5          0.1   294"
            ]
          },
          "metadata": {},
          "execution_count": 32
        }
      ]
    },
    {
      "cell_type": "code",
      "metadata": {
        "id": "BNfxVQX1SQ6S"
      },
      "source": [
        "X_df4 = Xdf.drop(data.columns[[2, 3, 5, 6]], axis = 1, inplace = False)"
      ],
      "execution_count": null,
      "outputs": []
    },
    {
      "cell_type": "code",
      "metadata": {
        "id": "0NrLOlAnTcjE"
      },
      "source": [
        "scaled_c6 = X_df4.copy()\n",
        "scaled_c6['Cluster'] = c6.Cluster\n",
        "scaled_c7 = X_df4.copy()\n",
        "scaled_c7['Cluster'] = c7.Cluster\n",
        "scaled_c8 = X_df4.copy()\n",
        "scaled_c8['Cluster'] = c8.Cluster"
      ],
      "execution_count": null,
      "outputs": []
    },
    {
      "cell_type": "code",
      "metadata": {
        "colab": {
          "base_uri": "https://localhost:8080/",
          "height": 204
        },
        "id": "k2IzVk9PVhwZ",
        "outputId": "2f806c2d-208e-4e42-e4b0-b34956e762d5"
      },
      "source": [
        "scaled_c6.head()"
      ],
      "execution_count": null,
      "outputs": [
        {
          "output_type": "execute_result",
          "data": {
            "text/html": [
              "<div>\n",
              "<style scoped>\n",
              "    .dataframe tbody tr th:only-of-type {\n",
              "        vertical-align: middle;\n",
              "    }\n",
              "\n",
              "    .dataframe tbody tr th {\n",
              "        vertical-align: top;\n",
              "    }\n",
              "\n",
              "    .dataframe thead th {\n",
              "        text-align: right;\n",
              "    }\n",
              "</style>\n",
              "<table border=\"1\" class=\"dataframe\">\n",
              "  <thead>\n",
              "    <tr style=\"text-align: right;\">\n",
              "      <th></th>\n",
              "      <th>acousticness</th>\n",
              "      <th>danceability</th>\n",
              "      <th>loudness</th>\n",
              "      <th>valence</th>\n",
              "      <th>Cluster</th>\n",
              "    </tr>\n",
              "  </thead>\n",
              "  <tbody>\n",
              "    <tr>\n",
              "      <th>0</th>\n",
              "      <td>-0.682467</td>\n",
              "      <td>1.332874</td>\n",
              "      <td>-0.454530</td>\n",
              "      <td>-0.853039</td>\n",
              "      <td>4</td>\n",
              "    </tr>\n",
              "    <tr>\n",
              "      <th>1</th>\n",
              "      <td>0.043897</td>\n",
              "      <td>0.773830</td>\n",
              "      <td>-0.881573</td>\n",
              "      <td>0.368970</td>\n",
              "      <td>0</td>\n",
              "    </tr>\n",
              "    <tr>\n",
              "      <th>2</th>\n",
              "      <td>-0.589363</td>\n",
              "      <td>1.363932</td>\n",
              "      <td>-0.016586</td>\n",
              "      <td>-1.310280</td>\n",
              "      <td>4</td>\n",
              "    </tr>\n",
              "    <tr>\n",
              "      <th>3</th>\n",
              "      <td>1.602040</td>\n",
              "      <td>-0.772860</td>\n",
              "      <td>-2.167220</td>\n",
              "      <td>-1.079636</td>\n",
              "      <td>1</td>\n",
              "    </tr>\n",
              "    <tr>\n",
              "      <th>4</th>\n",
              "      <td>-0.029201</td>\n",
              "      <td>0.370075</td>\n",
              "      <td>-1.213155</td>\n",
              "      <td>1.647627</td>\n",
              "      <td>3</td>\n",
              "    </tr>\n",
              "  </tbody>\n",
              "</table>\n",
              "</div>"
            ],
            "text/plain": [
              "   acousticness  danceability  loudness   valence  Cluster\n",
              "0     -0.682467      1.332874 -0.454530 -0.853039        4\n",
              "1      0.043897      0.773830 -0.881573  0.368970        0\n",
              "2     -0.589363      1.363932 -0.016586 -1.310280        4\n",
              "3      1.602040     -0.772860 -2.167220 -1.079636        1\n",
              "4     -0.029201      0.370075 -1.213155  1.647627        3"
            ]
          },
          "metadata": {},
          "execution_count": 35
        }
      ]
    },
    {
      "cell_type": "code",
      "metadata": {
        "colab": {
          "base_uri": "https://localhost:8080/",
          "height": 204
        },
        "id": "V74UQtBBV8BZ",
        "outputId": "8dc52c87-e97a-4fb1-951b-5d48ff099831"
      },
      "source": [
        "scaled_c7.head()"
      ],
      "execution_count": null,
      "outputs": [
        {
          "output_type": "execute_result",
          "data": {
            "text/html": [
              "<div>\n",
              "<style scoped>\n",
              "    .dataframe tbody tr th:only-of-type {\n",
              "        vertical-align: middle;\n",
              "    }\n",
              "\n",
              "    .dataframe tbody tr th {\n",
              "        vertical-align: top;\n",
              "    }\n",
              "\n",
              "    .dataframe thead th {\n",
              "        text-align: right;\n",
              "    }\n",
              "</style>\n",
              "<table border=\"1\" class=\"dataframe\">\n",
              "  <thead>\n",
              "    <tr style=\"text-align: right;\">\n",
              "      <th></th>\n",
              "      <th>acousticness</th>\n",
              "      <th>danceability</th>\n",
              "      <th>loudness</th>\n",
              "      <th>valence</th>\n",
              "      <th>Cluster</th>\n",
              "    </tr>\n",
              "  </thead>\n",
              "  <tbody>\n",
              "    <tr>\n",
              "      <th>0</th>\n",
              "      <td>-0.682467</td>\n",
              "      <td>1.332874</td>\n",
              "      <td>-0.454530</td>\n",
              "      <td>-0.853039</td>\n",
              "      <td>3</td>\n",
              "    </tr>\n",
              "    <tr>\n",
              "      <th>1</th>\n",
              "      <td>0.043897</td>\n",
              "      <td>0.773830</td>\n",
              "      <td>-0.881573</td>\n",
              "      <td>0.368970</td>\n",
              "      <td>1</td>\n",
              "    </tr>\n",
              "    <tr>\n",
              "      <th>2</th>\n",
              "      <td>-0.589363</td>\n",
              "      <td>1.363932</td>\n",
              "      <td>-0.016586</td>\n",
              "      <td>-1.310280</td>\n",
              "      <td>3</td>\n",
              "    </tr>\n",
              "    <tr>\n",
              "      <th>3</th>\n",
              "      <td>1.602040</td>\n",
              "      <td>-0.772860</td>\n",
              "      <td>-2.167220</td>\n",
              "      <td>-1.079636</td>\n",
              "      <td>5</td>\n",
              "    </tr>\n",
              "    <tr>\n",
              "      <th>4</th>\n",
              "      <td>-0.029201</td>\n",
              "      <td>0.370075</td>\n",
              "      <td>-1.213155</td>\n",
              "      <td>1.647627</td>\n",
              "      <td>2</td>\n",
              "    </tr>\n",
              "  </tbody>\n",
              "</table>\n",
              "</div>"
            ],
            "text/plain": [
              "   acousticness  danceability  loudness   valence  Cluster\n",
              "0     -0.682467      1.332874 -0.454530 -0.853039        3\n",
              "1      0.043897      0.773830 -0.881573  0.368970        1\n",
              "2     -0.589363      1.363932 -0.016586 -1.310280        3\n",
              "3      1.602040     -0.772860 -2.167220 -1.079636        5\n",
              "4     -0.029201      0.370075 -1.213155  1.647627        2"
            ]
          },
          "metadata": {},
          "execution_count": 36
        }
      ]
    },
    {
      "cell_type": "code",
      "metadata": {
        "colab": {
          "base_uri": "https://localhost:8080/",
          "height": 204
        },
        "id": "YR5GzentV9Wf",
        "outputId": "0f0adb6f-fa66-41e0-a80c-65fce6ddf977"
      },
      "source": [
        "scaled_c8.head()"
      ],
      "execution_count": null,
      "outputs": [
        {
          "output_type": "execute_result",
          "data": {
            "text/html": [
              "<div>\n",
              "<style scoped>\n",
              "    .dataframe tbody tr th:only-of-type {\n",
              "        vertical-align: middle;\n",
              "    }\n",
              "\n",
              "    .dataframe tbody tr th {\n",
              "        vertical-align: top;\n",
              "    }\n",
              "\n",
              "    .dataframe thead th {\n",
              "        text-align: right;\n",
              "    }\n",
              "</style>\n",
              "<table border=\"1\" class=\"dataframe\">\n",
              "  <thead>\n",
              "    <tr style=\"text-align: right;\">\n",
              "      <th></th>\n",
              "      <th>acousticness</th>\n",
              "      <th>danceability</th>\n",
              "      <th>loudness</th>\n",
              "      <th>valence</th>\n",
              "      <th>Cluster</th>\n",
              "    </tr>\n",
              "  </thead>\n",
              "  <tbody>\n",
              "    <tr>\n",
              "      <th>0</th>\n",
              "      <td>-0.682467</td>\n",
              "      <td>1.332874</td>\n",
              "      <td>-0.454530</td>\n",
              "      <td>-0.853039</td>\n",
              "      <td>3</td>\n",
              "    </tr>\n",
              "    <tr>\n",
              "      <th>1</th>\n",
              "      <td>0.043897</td>\n",
              "      <td>0.773830</td>\n",
              "      <td>-0.881573</td>\n",
              "      <td>0.368970</td>\n",
              "      <td>7</td>\n",
              "    </tr>\n",
              "    <tr>\n",
              "      <th>2</th>\n",
              "      <td>-0.589363</td>\n",
              "      <td>1.363932</td>\n",
              "      <td>-0.016586</td>\n",
              "      <td>-1.310280</td>\n",
              "      <td>3</td>\n",
              "    </tr>\n",
              "    <tr>\n",
              "      <th>3</th>\n",
              "      <td>1.602040</td>\n",
              "      <td>-0.772860</td>\n",
              "      <td>-2.167220</td>\n",
              "      <td>-1.079636</td>\n",
              "      <td>1</td>\n",
              "    </tr>\n",
              "    <tr>\n",
              "      <th>4</th>\n",
              "      <td>-0.029201</td>\n",
              "      <td>0.370075</td>\n",
              "      <td>-1.213155</td>\n",
              "      <td>1.647627</td>\n",
              "      <td>0</td>\n",
              "    </tr>\n",
              "  </tbody>\n",
              "</table>\n",
              "</div>"
            ],
            "text/plain": [
              "   acousticness  danceability  loudness   valence  Cluster\n",
              "0     -0.682467      1.332874 -0.454530 -0.853039        3\n",
              "1      0.043897      0.773830 -0.881573  0.368970        7\n",
              "2     -0.589363      1.363932 -0.016586 -1.310280        3\n",
              "3      1.602040     -0.772860 -2.167220 -1.079636        1\n",
              "4     -0.029201      0.370075 -1.213155  1.647627        0"
            ]
          },
          "metadata": {},
          "execution_count": 37
        }
      ]
    },
    {
      "cell_type": "code",
      "metadata": {
        "id": "wqKDRNbbYV-t"
      },
      "source": [
        "c6_melt = pd.melt(\n",
        "    scaled_c6.reset_index(), \n",
        "    id_vars=['Cluster'],\n",
        "    value_vars=['valence', 'acousticness', 'danceability', 'loudness'], \n",
        "    var_name='Attribute',\n",
        "    value_name='Value')\n",
        "\n",
        "c7_melt = pd.melt(\n",
        "    scaled_c7.reset_index(), \n",
        "    id_vars=['Cluster'],\n",
        "    value_vars=['valence', 'acousticness', 'danceability', 'loudness'], \n",
        "    var_name='Attribute',\n",
        "    value_name='Value')\n",
        "\n",
        "c8_melt = pd.melt(\n",
        "    scaled_c8.reset_index(), \n",
        "    id_vars=['Cluster'],\n",
        "    value_vars=['valence', 'acousticness', 'danceability', 'loudness'], \n",
        "    var_name='Attribute',\n",
        "    value_name='Value')"
      ],
      "execution_count": null,
      "outputs": []
    },
    {
      "cell_type": "code",
      "metadata": {
        "colab": {
          "base_uri": "https://localhost:8080/",
          "height": 312
        },
        "id": "ObVeFBQZak8z",
        "outputId": "e745da7b-af3a-41c2-cbc6-6f4552cc906b"
      },
      "source": [
        "plt.xlabel('Attribute')\n",
        "plt.ylabel('Value')\n",
        "plt.title('snake plot (clusters = 6)')\n",
        "sns.lineplot(data=c6_melt,x='Attribute',y='Value',hue='Cluster')"
      ],
      "execution_count": null,
      "outputs": [
        {
          "output_type": "execute_result",
          "data": {
            "text/plain": [
              "<matplotlib.axes._subplots.AxesSubplot at 0x7f02dd5609d0>"
            ]
          },
          "metadata": {},
          "execution_count": 39
        },
        {
          "output_type": "display_data",
          "data": {
            "image/png": "[encoded data removed]",
            "text/plain": [
              "<Figure size 432x288 with 1 Axes>"
            ]
          },
          "metadata": {
            "needs_background": "light"
          }
        }
      ]
    },
    {
      "cell_type": "code",
      "metadata": {
        "colab": {
          "base_uri": "https://localhost:8080/",
          "height": 295
        },
        "id": "dgWWMxADcVTW",
        "outputId": "c3e52ddd-02c6-47c2-dafd-c6d64ac6cd3b"
      },
      "source": [
        "plt.xlabel('Attribute')\n",
        "plt.ylabel('Value')\n",
        "plt.title('snake plot (clusters = 7)')\n",
        "sns.lineplot(data=c7_melt,x='Attribute',y='Value',hue='Cluster')\n",
        "plt.show()"
      ],
      "execution_count": null,
      "outputs": [
        {
          "output_type": "display_data",
          "data": {
            "image/png": "[encoded data removed]",
            "text/plain": [
              "<Figure size 432x288 with 1 Axes>"
            ]
          },
          "metadata": {
            "needs_background": "light"
          }
        }
      ]
    },
    {
      "cell_type": "code",
      "metadata": {
        "colab": {
          "base_uri": "https://localhost:8080/",
          "height": 295
        },
        "id": "QTVdHMZocVeX",
        "outputId": "ba8e2c76-3731-49b9-a7df-a3289d3e71c5"
      },
      "source": [
        "plt.xlabel('Attribute')\n",
        "plt.ylabel('Value')\n",
        "plt.title('snake plot (clusters = 8)')\n",
        "sns.lineplot(data=c8_melt,x='Attribute',y='Value',hue='Cluster')\n",
        "plt.show()"
      ],
      "execution_count": null,
      "outputs": [
        {
          "output_type": "display_data",
          "data": {
            "image/png": "[encoded data removed]",
            "text/plain": [
              "<Figure size 432x288 with 1 Axes>"
            ]
          },
          "metadata": {
            "needs_background": "light"
          }
        }
      ]
    },
    {
      "cell_type": "code",
      "metadata": {
        "id": "HI1B_P4xWj9q",
        "colab": {
          "base_uri": "https://localhost:8080/",
          "height": 309
        },
        "outputId": "c9db34fa-58da-490f-ab10-40b76858a27f"
      },
      "source": [
        "c7.head()"
      ],
      "execution_count": null,
      "outputs": [
        {
          "output_type": "execute_result",
          "data": {
            "text/html": [
              "<div>\n",
              "<style scoped>\n",
              "    .dataframe tbody tr th:only-of-type {\n",
              "        vertical-align: middle;\n",
              "    }\n",
              "\n",
              "    .dataframe tbody tr th {\n",
              "        vertical-align: top;\n",
              "    }\n",
              "\n",
              "    .dataframe thead th {\n",
              "        text-align: right;\n",
              "    }\n",
              "</style>\n",
              "<table border=\"1\" class=\"dataframe\">\n",
              "  <thead>\n",
              "    <tr style=\"text-align: right;\">\n",
              "      <th></th>\n",
              "      <th>Unnamed: 0</th>\n",
              "      <th>acousticness</th>\n",
              "      <th>danceability</th>\n",
              "      <th>duration_ms</th>\n",
              "      <th>energy</th>\n",
              "      <th>instrumentalness</th>\n",
              "      <th>key</th>\n",
              "      <th>liveness</th>\n",
              "      <th>loudness</th>\n",
              "      <th>mode</th>\n",
              "      <th>speechiness</th>\n",
              "      <th>tempo</th>\n",
              "      <th>time_signature</th>\n",
              "      <th>valence</th>\n",
              "      <th>target</th>\n",
              "      <th>song_title</th>\n",
              "      <th>artist</th>\n",
              "      <th>Cluster</th>\n",
              "    </tr>\n",
              "  </thead>\n",
              "  <tbody>\n",
              "    <tr>\n",
              "      <th>0</th>\n",
              "      <td>0</td>\n",
              "      <td>0.0102</td>\n",
              "      <td>0.833</td>\n",
              "      <td>204600</td>\n",
              "      <td>0.434</td>\n",
              "      <td>0.021900</td>\n",
              "      <td>2</td>\n",
              "      <td>0.1650</td>\n",
              "      <td>-8.795</td>\n",
              "      <td>1</td>\n",
              "      <td>0.4310</td>\n",
              "      <td>150.062</td>\n",
              "      <td>4.0</td>\n",
              "      <td>0.286</td>\n",
              "      <td>1</td>\n",
              "      <td>Mask Off</td>\n",
              "      <td>Future</td>\n",
              "      <td>3</td>\n",
              "    </tr>\n",
              "    <tr>\n",
              "      <th>1</th>\n",
              "      <td>1</td>\n",
              "      <td>0.1990</td>\n",
              "      <td>0.743</td>\n",
              "      <td>326933</td>\n",
              "      <td>0.359</td>\n",
              "      <td>0.006110</td>\n",
              "      <td>1</td>\n",
              "      <td>0.1370</td>\n",
              "      <td>-10.401</td>\n",
              "      <td>1</td>\n",
              "      <td>0.0794</td>\n",
              "      <td>160.083</td>\n",
              "      <td>4.0</td>\n",
              "      <td>0.588</td>\n",
              "      <td>1</td>\n",
              "      <td>Redbone</td>\n",
              "      <td>Childish Gambino</td>\n",
              "      <td>1</td>\n",
              "    </tr>\n",
              "    <tr>\n",
              "      <th>2</th>\n",
              "      <td>2</td>\n",
              "      <td>0.0344</td>\n",
              "      <td>0.838</td>\n",
              "      <td>185707</td>\n",
              "      <td>0.412</td>\n",
              "      <td>0.000234</td>\n",
              "      <td>2</td>\n",
              "      <td>0.1590</td>\n",
              "      <td>-7.148</td>\n",
              "      <td>1</td>\n",
              "      <td>0.2890</td>\n",
              "      <td>75.044</td>\n",
              "      <td>4.0</td>\n",
              "      <td>0.173</td>\n",
              "      <td>1</td>\n",
              "      <td>Xanny Family</td>\n",
              "      <td>Future</td>\n",
              "      <td>3</td>\n",
              "    </tr>\n",
              "    <tr>\n",
              "      <th>3</th>\n",
              "      <td>3</td>\n",
              "      <td>0.6040</td>\n",
              "      <td>0.494</td>\n",
              "      <td>199413</td>\n",
              "      <td>0.338</td>\n",
              "      <td>0.510000</td>\n",
              "      <td>5</td>\n",
              "      <td>0.0922</td>\n",
              "      <td>-15.236</td>\n",
              "      <td>1</td>\n",
              "      <td>0.0261</td>\n",
              "      <td>86.468</td>\n",
              "      <td>4.0</td>\n",
              "      <td>0.230</td>\n",
              "      <td>1</td>\n",
              "      <td>Master Of None</td>\n",
              "      <td>Beach House</td>\n",
              "      <td>5</td>\n",
              "    </tr>\n",
              "    <tr>\n",
              "      <th>4</th>\n",
              "      <td>4</td>\n",
              "      <td>0.1800</td>\n",
              "      <td>0.678</td>\n",
              "      <td>392893</td>\n",
              "      <td>0.561</td>\n",
              "      <td>0.512000</td>\n",
              "      <td>5</td>\n",
              "      <td>0.4390</td>\n",
              "      <td>-11.648</td>\n",
              "      <td>0</td>\n",
              "      <td>0.0694</td>\n",
              "      <td>174.004</td>\n",
              "      <td>4.0</td>\n",
              "      <td>0.904</td>\n",
              "      <td>1</td>\n",
              "      <td>Parallel Lines</td>\n",
              "      <td>Junior Boys</td>\n",
              "      <td>2</td>\n",
              "    </tr>\n",
              "  </tbody>\n",
              "</table>\n",
              "</div>"
            ],
            "text/plain": [
              "   Unnamed: 0  acousticness  ...            artist  Cluster\n",
              "0           0        0.0102  ...            Future        3\n",
              "1           1        0.1990  ...  Childish Gambino        1\n",
              "2           2        0.0344  ...            Future        3\n",
              "3           3        0.6040  ...       Beach House        5\n",
              "4           4        0.1800  ...       Junior Boys        2\n",
              "\n",
              "[5 rows x 18 columns]"
            ]
          },
          "metadata": {},
          "execution_count": 42
        }
      ]
    },
    {
      "cell_type": "markdown",
      "metadata": {
        "id": "0pnqrDcDiQhB"
      },
      "source": [
        "## **Making Recommendations On Clusters = 7**"
      ]
    },
    {
      "cell_type": "code",
      "metadata": {
        "colab": {
          "base_uri": "https://localhost:8080/"
        },
        "id": "dvOTGmZviP0B",
        "outputId": "15fd916e-90d9-4a13-8720-911ed098568b"
      },
      "source": [
        "def recommend(n):\n",
        "  r = c7[c7['Cluster']==n]\n",
        "  rr = r.sample(5)\n",
        "  print (rr['song_title'])\n",
        "\n",
        "\n",
        "\n",
        "n=c7.song_title.to_list()\n",
        "v=c7.Cluster.to_list()\n",
        "while(1):\n",
        "  print('Enter a song name:\\n')\n",
        "  song=input()\n",
        "  song.upper()\n",
        "  if song in n:\n",
        "    print('Recommendations:\\n')\n",
        "    song_index = n.index(song)\n",
        "    sv=v[song_index]\n",
        "    recommend(sv)\n",
        "    break\n",
        "  else:\n",
        "    print('Please enter a valid song name:\\n')\n",
        "    continue\n",
        "\n",
        "\n",
        "\n"
      ],
      "execution_count": null,
      "outputs": [
        {
          "output_type": "stream",
          "name": "stdout",
          "text": [
            "Enter a song name:\n",
            "\n",
            "Perfect\n",
            "Please enter a valid song name:\n",
            "\n",
            "Enter a song name:\n",
            "\n",
            "perfect\n",
            "Please enter a valid song name:\n",
            "\n",
            "Enter a song name:\n",
            "\n",
            "Mask Off\n",
            "Recommendations:\n",
            "\n",
            "114     Queen's Speech 4\n",
            "1011       T On the Wing\n",
            "615            Trill Hoe\n",
            "732                 Dope\n",
            "1437            Save You\n",
            "Name: song_title, dtype: object\n"
          ]
        }
      ]
    },
    {
      "cell_type": "code",
      "metadata": {
        "colab": {
          "base_uri": "https://localhost:8080/"
        },
        "id": "0JHAxUmPXIGs",
        "outputId": "9c84e3ec-408b-4b59-e1a8-966562181938"
      },
      "source": [
        "print(c7.iloc[114,:])"
      ],
      "execution_count": null,
      "outputs": [
        {
          "output_type": "stream",
          "name": "stdout",
          "text": [
            "Unnamed: 0                       114\n",
            "acousticness                   0.141\n",
            "danceability                   0.661\n",
            "duration_ms                   196615\n",
            "energy                         0.531\n",
            "instrumentalness                   0\n",
            "key                                7\n",
            "liveness                       0.136\n",
            "loudness                     -10.113\n",
            "mode                               0\n",
            "speechiness                    0.548\n",
            "tempo                         93.287\n",
            "time_signature                     5\n",
            "valence                        0.657\n",
            "target                             1\n",
            "song_title          Queen's Speech 4\n",
            "artist                  Lady Leshurr\n",
            "Cluster                            3\n",
            "Name: 114, dtype: object\n"
          ]
        }
      ]
    },
    {
      "cell_type": "code",
      "metadata": {
        "colab": {
          "base_uri": "https://localhost:8080/"
        },
        "id": "-hekaHFuGtlA",
        "outputId": "5ea54e01-2fc7-439a-fc70-eb099c6b763a"
      },
      "source": [
        "print(c7.iloc[1011,:])"
      ],
      "execution_count": null,
      "outputs": [
        {
          "output_type": "stream",
          "name": "stdout",
          "text": [
            "Unnamed: 0                   1011\n",
            "acousticness                0.397\n",
            "danceability                0.739\n",
            "duration_ms                181714\n",
            "energy                      0.665\n",
            "instrumentalness                0\n",
            "key                             1\n",
            "liveness                   0.0901\n",
            "loudness                   -6.075\n",
            "mode                            0\n",
            "speechiness                 0.441\n",
            "tempo                      139.87\n",
            "time_signature                  4\n",
            "valence                     0.357\n",
            "target                          1\n",
            "song_title          T On the Wing\n",
            "artist                President T\n",
            "Cluster                         3\n",
            "Name: 1011, dtype: object\n"
          ]
        }
      ]
    },
    {
      "cell_type": "markdown",
      "metadata": {
        "id": "1ja6EFLz_qqF"
      },
      "source": [
        "# **PCA**"
      ]
    },
    {
      "cell_type": "code",
      "metadata": {
        "id": "cPh_RoEQAXla"
      },
      "source": [
        "'Feature Scaling'\n",
        "\n",
        "from sklearn.preprocessing import StandardScaler\n",
        "\n",
        "sc_pca=StandardScaler()\n",
        "X_pca=sc_pca.fit_transform(data)\n",
        "\n"
      ],
      "execution_count": null,
      "outputs": []
    },
    {
      "cell_type": "code",
      "metadata": {
        "id": "ZHKBjzz_Sekf"
      },
      "source": [
        "'Applying PCA'\n",
        "\n",
        "from sklearn.decomposition import KernelPCA\n",
        "\n",
        "kpca=KernelPCA(n_components=2)\n",
        "X_pca=kpca.fit_transform(X_pca)\n"
      ],
      "execution_count": null,
      "outputs": []
    },
    {
      "cell_type": "code",
      "metadata": {
        "colab": {
          "base_uri": "https://localhost:8080/",
          "height": 204
        },
        "id": "LveWAGzjAXl8",
        "outputId": "33f24cbb-4d1d-47a6-e6c9-cc9ede4d4383"
      },
      "source": [
        "X_pcadf=pd.DataFrame(X_pca)\n",
        "X_pcadf.head()"
      ],
      "execution_count": null,
      "outputs": [
        {
          "output_type": "execute_result",
          "data": {
            "text/html": [
              "<div>\n",
              "<style scoped>\n",
              "    .dataframe tbody tr th:only-of-type {\n",
              "        vertical-align: middle;\n",
              "    }\n",
              "\n",
              "    .dataframe tbody tr th {\n",
              "        vertical-align: top;\n",
              "    }\n",
              "\n",
              "    .dataframe thead th {\n",
              "        text-align: right;\n",
              "    }\n",
              "</style>\n",
              "<table border=\"1\" class=\"dataframe\">\n",
              "  <thead>\n",
              "    <tr style=\"text-align: right;\">\n",
              "      <th></th>\n",
              "      <th>0</th>\n",
              "      <th>1</th>\n",
              "    </tr>\n",
              "  </thead>\n",
              "  <tbody>\n",
              "    <tr>\n",
              "      <th>0</th>\n",
              "      <td>-0.088346</td>\n",
              "      <td>-0.565386</td>\n",
              "    </tr>\n",
              "    <tr>\n",
              "      <th>1</th>\n",
              "      <td>0.985420</td>\n",
              "      <td>-0.688095</td>\n",
              "    </tr>\n",
              "    <tr>\n",
              "      <th>2</th>\n",
              "      <td>0.531098</td>\n",
              "      <td>-1.106601</td>\n",
              "    </tr>\n",
              "    <tr>\n",
              "      <th>3</th>\n",
              "      <td>3.661005</td>\n",
              "      <td>-0.038002</td>\n",
              "    </tr>\n",
              "    <tr>\n",
              "      <th>4</th>\n",
              "      <td>-0.037163</td>\n",
              "      <td>-0.147370</td>\n",
              "    </tr>\n",
              "  </tbody>\n",
              "</table>\n",
              "</div>"
            ],
            "text/plain": [
              "          0         1\n",
              "0 -0.088346 -0.565386\n",
              "1  0.985420 -0.688095\n",
              "2  0.531098 -1.106601\n",
              "3  3.661005 -0.038002\n",
              "4 -0.037163 -0.147370"
            ]
          },
          "metadata": {},
          "execution_count": 48
        }
      ]
    },
    {
      "cell_type": "markdown",
      "metadata": {
        "id": "OIZ_DHbNB9av"
      },
      "source": [
        "# **Recommender**"
      ]
    },
    {
      "cell_type": "code",
      "metadata": {
        "colab": {
          "base_uri": "https://localhost:8080/"
        },
        "id": "eq_HzUtETpvH",
        "outputId": "591e9512-84bb-4ad1-d89a-c047408b7a0d"
      },
      "source": [
        "from sklearn.neighbors import NearestNeighbors\n",
        "\n",
        "model_knn = NearestNeighbors(metric = 'cosine', algorithm = 'brute')\n",
        "model_knn.fit(X_pca)"
      ],
      "execution_count": null,
      "outputs": [
        {
          "output_type": "execute_result",
          "data": {
            "text/plain": [
              "NearestNeighbors(algorithm='brute', leaf_size=30, metric='cosine',\n",
              "                 metric_params=None, n_jobs=None, n_neighbors=5, p=2,\n",
              "                 radius=1.0)"
            ]
          },
          "metadata": {},
          "execution_count": 49
        }
      ]
    },
    {
      "cell_type": "code",
      "metadata": {
        "id": "RIIiQ0ccFN5u"
      },
      "source": [
        "da = dd.copy()\n",
        "words = da['song_title'].values"
      ],
      "execution_count": null,
      "outputs": []
    },
    {
      "cell_type": "code",
      "metadata": {
        "colab": {
          "base_uri": "https://localhost:8080/"
        },
        "id": "azXTYuaAFTmb",
        "outputId": "e7ae6a48-8009-4103-9825-fc2b18fbfe15"
      },
      "source": [
        "print(words)"
      ],
      "execution_count": null,
      "outputs": [
        {
          "output_type": "stream",
          "name": "stdout",
          "text": [
            "['Mask Off' 'Redbone' 'Xanny Family' ...\n",
            " 'Habit - Dack Janiels & Wenzday Remix' 'First Contact'\n",
            " 'I Wanna Get Better']\n"
          ]
        }
      ]
    },
    {
      "cell_type": "code",
      "metadata": {
        "id": "goHbKpAUFld2"
      },
      "source": [
        "artists=da['artist'].values"
      ],
      "execution_count": null,
      "outputs": []
    },
    {
      "cell_type": "code",
      "metadata": {
        "id": "aorzdeMpFXYT"
      },
      "source": [
        "t=[]\n",
        "count=0"
      ],
      "execution_count": null,
      "outputs": []
    },
    {
      "cell_type": "code",
      "metadata": {
        "id": "0qoYeMuwF92L"
      },
      "source": [
        "word = \"Mask Off\""
      ],
      "execution_count": null,
      "outputs": []
    },
    {
      "cell_type": "code",
      "metadata": {
        "id": "oAidnWk7FsGC"
      },
      "source": [
        "if word[-1]==' ':\n",
        "  word=word[:-1]\n"
      ],
      "execution_count": null,
      "outputs": []
    },
    {
      "cell_type": "code",
      "metadata": {
        "id": "0-tLg1U-GBhY"
      },
      "source": [
        "for i in words:\n",
        "    if word.lower() in i.lower():\n",
        "        t.append([len(word)/len(i),count])\n",
        "    count+=1"
      ],
      "execution_count": null,
      "outputs": []
    },
    {
      "cell_type": "code",
      "metadata": {
        "id": "_zsWAiQcGEtG"
      },
      "source": [
        "t.sort(reverse=True)\n",
        "w  = []\n",
        "for a,b in t:\n",
        "  w.append(da.iloc[b,-2:-4].values)"
      ],
      "execution_count": null,
      "outputs": []
    },
    {
      "cell_type": "code",
      "metadata": {
        "colab": {
          "base_uri": "https://localhost:8080/"
        },
        "id": "-1ShiFe0GG5N",
        "outputId": "78ff4fd2-c45e-4d1c-d252-4c57eec42016"
      },
      "source": [
        "w"
      ],
      "execution_count": null,
      "outputs": [
        {
          "output_type": "execute_result",
          "data": {
            "text/plain": [
              "[array([], dtype=object), array([], dtype=object)]"
            ]
          },
          "metadata": {},
          "execution_count": 74
        }
      ]
    },
    {
      "cell_type": "code",
      "metadata": {
        "id": "ONOVxO9Gqb37"
      },
      "source": [
        "def wid_inp(word):\n",
        "\n",
        "  da = dd.copy()\n",
        "  words=da['song_title'].values\n",
        "  artists=da['artist'].values\n",
        "  t=[]\n",
        "  count=0\n",
        "      \n",
        "  if word[-1]==' ':\n",
        "    word=word[:-1]\n",
        "  for i in words:\n",
        "      if word.lower() in i.lower():\n",
        "          t.append([len(word)/len(i),count])\n",
        "      count+=1\n",
        "  t.sort(reverse=True)\n",
        "  w  = []\n",
        "  for a,b in t:\n",
        "    w.append(da.iloc[b,-2:-3].values)\n",
        "\n",
        "  return w\n"
      ],
      "execution_count": null,
      "outputs": []
    },
    {
      "cell_type": "markdown",
      "metadata": {
        "id": "Jab2scIqaupv"
      },
      "source": [
        "## **Using Widget**"
      ]
    },
    {
      "cell_type": "code",
      "metadata": {
        "id": "fxRmlN-bumjj"
      },
      "source": [
        "from ipywidgets import interact, interactive, fixed, interact_manual\n",
        "import ipywidgets as widgets\n",
        "\n",
        "a = input('Please enter The name of the song :')\n",
        "song_i_like = wid_inp(a)\n",
        "ans = widgets.Dropdown(\n",
        "      options = song_i_like,\n",
        "      description = 'Closest To '+ a,\n",
        "      disabled = False,\n",
        ")\n",
        "display(ans)"
      ],
      "execution_count": null,
      "outputs": []
    },
    {
      "cell_type": "code",
      "metadata": {
        "colab": {
          "base_uri": "https://localhost:8080/"
        },
        "id": "wRFddKhow_Et",
        "outputId": "3a0eca86-d795-43be-ac93-4b607fe6f466"
      },
      "source": [
        "ans.value"
      ],
      "execution_count": null,
      "outputs": [
        {
          "output_type": "execute_result",
          "data": {
            "text/plain": [
              "array(['Perfect'], dtype=object)"
            ]
          },
          "metadata": {
            "tags": []
          },
          "execution_count": 54
        }
      ]
    },
    {
      "cell_type": "code",
      "metadata": {
        "id": "YN6fgBwPxWM7"
      },
      "source": [
        "query_index = n.index(ans.value)"
      ],
      "execution_count": null,
      "outputs": []
    },
    {
      "cell_type": "code",
      "metadata": {
        "id": "vTMv3JWNUv4U"
      },
      "source": [
        "distances, indices = model_knn.kneighbors(X_pcadf.iloc[query_index, :].values.reshape(1, -1), n_neighbors = 6)\n"
      ],
      "execution_count": null,
      "outputs": []
    },
    {
      "cell_type": "code",
      "metadata": {
        "colab": {
          "base_uri": "https://localhost:8080/"
        },
        "id": "jZ7fPpz6U9xi",
        "outputId": "64e60768-886e-4efa-939c-f33fef2bef4b"
      },
      "source": [
        "for i in range(0, len(distances.flatten())):\n",
        "    if i == 0:\n",
        "        print ('Recommendations for {0}:\\n'.format(dd.iloc[query_index,-5:-4].values))\n",
        "    else:\n",
        "        print ('{0}: {1}, with distance of {2}:'.format(i, dd.iloc[indices.flatten()[i],-5:-4].values, distances.flatten()[i]))\n",
        "        "
      ],
      "execution_count": null,
      "outputs": [
        {
          "output_type": "stream",
          "text": [
            "Recommendations for ['Perfect']:\n",
            "\n",
            "1: ['No Light'], with distance of 2.1417226658826394e-08:\n",
            "2: ['Magia'], with distance of 1.4289995919902765e-07:\n",
            "3: ['Arise'], with distance of 1.5719422385984672e-07:\n",
            "4: ['Violence (Enough Is Enough)'], with distance of 2.388451815216186e-07:\n",
            "5: ['When I Pray for You'], with distance of 1.1909939612309017e-06:\n"
          ],
          "name": "stdout"
        }
      ]
    },
    {
      "cell_type": "code",
      "metadata": {
        "id": "CrVN-HFTY6io"
      },
      "source": [
        ""
      ],
      "execution_count": null,
      "outputs": []
    }
  ]
}